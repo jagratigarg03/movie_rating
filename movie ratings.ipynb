{
 "cells": [
  {
   "cell_type": "code",
   "execution_count": 2,
   "id": "2ca0c5ca",
   "metadata": {},
   "outputs": [],
   "source": [
    "import pandas as pd\n",
    "import numpy as np\n",
    "import matplotlib.pyplot as plt"
   ]
  },
  {
   "cell_type": "code",
   "execution_count": 3,
   "id": "135b6da1",
   "metadata": {},
   "outputs": [],
   "source": [
    "df=pd.read_csv(\"IMDb Movies India.csv\",encoding='Latin-1')"
   ]
  },
  {
   "cell_type": "code",
   "execution_count": 4,
   "id": "32d1b993",
   "metadata": {},
   "outputs": [
    {
     "data": {
      "text/html": [
       "<div>\n",
       "<style scoped>\n",
       "    .dataframe tbody tr th:only-of-type {\n",
       "        vertical-align: middle;\n",
       "    }\n",
       "\n",
       "    .dataframe tbody tr th {\n",
       "        vertical-align: top;\n",
       "    }\n",
       "\n",
       "    .dataframe thead th {\n",
       "        text-align: right;\n",
       "    }\n",
       "</style>\n",
       "<table border=\"1\" class=\"dataframe\">\n",
       "  <thead>\n",
       "    <tr style=\"text-align: right;\">\n",
       "      <th></th>\n",
       "      <th>Name</th>\n",
       "      <th>Year</th>\n",
       "      <th>Duration</th>\n",
       "      <th>Genre</th>\n",
       "      <th>Rating</th>\n",
       "      <th>Votes</th>\n",
       "      <th>Director</th>\n",
       "      <th>Actor 1</th>\n",
       "      <th>Actor 2</th>\n",
       "      <th>Actor 3</th>\n",
       "    </tr>\n",
       "  </thead>\n",
       "  <tbody>\n",
       "    <tr>\n",
       "      <th>0</th>\n",
       "      <td></td>\n",
       "      <td>NaN</td>\n",
       "      <td>NaN</td>\n",
       "      <td>Drama</td>\n",
       "      <td>NaN</td>\n",
       "      <td>NaN</td>\n",
       "      <td>J.S. Randhawa</td>\n",
       "      <td>Manmauji</td>\n",
       "      <td>Birbal</td>\n",
       "      <td>Rajendra Bhatia</td>\n",
       "    </tr>\n",
       "    <tr>\n",
       "      <th>1</th>\n",
       "      <td>#Gadhvi (He thought he was Gandhi)</td>\n",
       "      <td>(2019)</td>\n",
       "      <td>109 min</td>\n",
       "      <td>Drama</td>\n",
       "      <td>7.0</td>\n",
       "      <td>8</td>\n",
       "      <td>Gaurav Bakshi</td>\n",
       "      <td>Rasika Dugal</td>\n",
       "      <td>Vivek Ghamande</td>\n",
       "      <td>Arvind Jangid</td>\n",
       "    </tr>\n",
       "    <tr>\n",
       "      <th>2</th>\n",
       "      <td>#Homecoming</td>\n",
       "      <td>(2021)</td>\n",
       "      <td>90 min</td>\n",
       "      <td>Drama, Musical</td>\n",
       "      <td>NaN</td>\n",
       "      <td>NaN</td>\n",
       "      <td>Soumyajit Majumdar</td>\n",
       "      <td>Sayani Gupta</td>\n",
       "      <td>Plabita Borthakur</td>\n",
       "      <td>Roy Angana</td>\n",
       "    </tr>\n",
       "    <tr>\n",
       "      <th>3</th>\n",
       "      <td>#Yaaram</td>\n",
       "      <td>(2019)</td>\n",
       "      <td>110 min</td>\n",
       "      <td>Comedy, Romance</td>\n",
       "      <td>4.4</td>\n",
       "      <td>35</td>\n",
       "      <td>Ovais Khan</td>\n",
       "      <td>Prateik</td>\n",
       "      <td>Ishita Raj</td>\n",
       "      <td>Siddhant Kapoor</td>\n",
       "    </tr>\n",
       "    <tr>\n",
       "      <th>4</th>\n",
       "      <td>...And Once Again</td>\n",
       "      <td>(2010)</td>\n",
       "      <td>105 min</td>\n",
       "      <td>Drama</td>\n",
       "      <td>NaN</td>\n",
       "      <td>NaN</td>\n",
       "      <td>Amol Palekar</td>\n",
       "      <td>Rajat Kapoor</td>\n",
       "      <td>Rituparna Sengupta</td>\n",
       "      <td>Antara Mali</td>\n",
       "    </tr>\n",
       "    <tr>\n",
       "      <th>...</th>\n",
       "      <td>...</td>\n",
       "      <td>...</td>\n",
       "      <td>...</td>\n",
       "      <td>...</td>\n",
       "      <td>...</td>\n",
       "      <td>...</td>\n",
       "      <td>...</td>\n",
       "      <td>...</td>\n",
       "      <td>...</td>\n",
       "      <td>...</td>\n",
       "    </tr>\n",
       "    <tr>\n",
       "      <th>15504</th>\n",
       "      <td>Zulm Ko Jala Doonga</td>\n",
       "      <td>(1988)</td>\n",
       "      <td>NaN</td>\n",
       "      <td>Action</td>\n",
       "      <td>4.6</td>\n",
       "      <td>11</td>\n",
       "      <td>Mahendra Shah</td>\n",
       "      <td>Naseeruddin Shah</td>\n",
       "      <td>Sumeet Saigal</td>\n",
       "      <td>Suparna Anand</td>\n",
       "    </tr>\n",
       "    <tr>\n",
       "      <th>15505</th>\n",
       "      <td>Zulmi</td>\n",
       "      <td>(1999)</td>\n",
       "      <td>129 min</td>\n",
       "      <td>Action, Drama</td>\n",
       "      <td>4.5</td>\n",
       "      <td>655</td>\n",
       "      <td>Kuku Kohli</td>\n",
       "      <td>Akshay Kumar</td>\n",
       "      <td>Twinkle Khanna</td>\n",
       "      <td>Aruna Irani</td>\n",
       "    </tr>\n",
       "    <tr>\n",
       "      <th>15506</th>\n",
       "      <td>Zulmi Raj</td>\n",
       "      <td>(2005)</td>\n",
       "      <td>NaN</td>\n",
       "      <td>Action</td>\n",
       "      <td>NaN</td>\n",
       "      <td>NaN</td>\n",
       "      <td>Kiran Thej</td>\n",
       "      <td>Sangeeta Tiwari</td>\n",
       "      <td>NaN</td>\n",
       "      <td>NaN</td>\n",
       "    </tr>\n",
       "    <tr>\n",
       "      <th>15507</th>\n",
       "      <td>Zulmi Shikari</td>\n",
       "      <td>(1988)</td>\n",
       "      <td>NaN</td>\n",
       "      <td>Action</td>\n",
       "      <td>NaN</td>\n",
       "      <td>NaN</td>\n",
       "      <td>NaN</td>\n",
       "      <td>NaN</td>\n",
       "      <td>NaN</td>\n",
       "      <td>NaN</td>\n",
       "    </tr>\n",
       "    <tr>\n",
       "      <th>15508</th>\n",
       "      <td>Zulm-O-Sitam</td>\n",
       "      <td>(1998)</td>\n",
       "      <td>130 min</td>\n",
       "      <td>Action, Drama</td>\n",
       "      <td>6.2</td>\n",
       "      <td>20</td>\n",
       "      <td>K.C. Bokadia</td>\n",
       "      <td>Dharmendra</td>\n",
       "      <td>Jaya Prada</td>\n",
       "      <td>Arjun Sarja</td>\n",
       "    </tr>\n",
       "  </tbody>\n",
       "</table>\n",
       "<p>15509 rows × 10 columns</p>\n",
       "</div>"
      ],
      "text/plain": [
       "                                     Name    Year Duration            Genre  \\\n",
       "0                                             NaN      NaN            Drama   \n",
       "1      #Gadhvi (He thought he was Gandhi)  (2019)  109 min            Drama   \n",
       "2                             #Homecoming  (2021)   90 min   Drama, Musical   \n",
       "3                                 #Yaaram  (2019)  110 min  Comedy, Romance   \n",
       "4                       ...And Once Again  (2010)  105 min            Drama   \n",
       "...                                   ...     ...      ...              ...   \n",
       "15504                 Zulm Ko Jala Doonga  (1988)      NaN           Action   \n",
       "15505                               Zulmi  (1999)  129 min    Action, Drama   \n",
       "15506                           Zulmi Raj  (2005)      NaN           Action   \n",
       "15507                       Zulmi Shikari  (1988)      NaN           Action   \n",
       "15508                        Zulm-O-Sitam  (1998)  130 min    Action, Drama   \n",
       "\n",
       "       Rating Votes            Director           Actor 1             Actor 2  \\\n",
       "0         NaN   NaN       J.S. Randhawa          Manmauji              Birbal   \n",
       "1         7.0     8       Gaurav Bakshi      Rasika Dugal      Vivek Ghamande   \n",
       "2         NaN   NaN  Soumyajit Majumdar      Sayani Gupta   Plabita Borthakur   \n",
       "3         4.4    35          Ovais Khan           Prateik          Ishita Raj   \n",
       "4         NaN   NaN        Amol Palekar      Rajat Kapoor  Rituparna Sengupta   \n",
       "...       ...   ...                 ...               ...                 ...   \n",
       "15504     4.6    11       Mahendra Shah  Naseeruddin Shah       Sumeet Saigal   \n",
       "15505     4.5   655          Kuku Kohli      Akshay Kumar      Twinkle Khanna   \n",
       "15506     NaN   NaN          Kiran Thej   Sangeeta Tiwari                 NaN   \n",
       "15507     NaN   NaN                 NaN               NaN                 NaN   \n",
       "15508     6.2    20        K.C. Bokadia        Dharmendra          Jaya Prada   \n",
       "\n",
       "               Actor 3  \n",
       "0      Rajendra Bhatia  \n",
       "1        Arvind Jangid  \n",
       "2           Roy Angana  \n",
       "3      Siddhant Kapoor  \n",
       "4          Antara Mali  \n",
       "...                ...  \n",
       "15504    Suparna Anand  \n",
       "15505      Aruna Irani  \n",
       "15506              NaN  \n",
       "15507              NaN  \n",
       "15508      Arjun Sarja  \n",
       "\n",
       "[15509 rows x 10 columns]"
      ]
     },
     "execution_count": 4,
     "metadata": {},
     "output_type": "execute_result"
    }
   ],
   "source": [
    "df"
   ]
  },
  {
   "cell_type": "code",
   "execution_count": 5,
   "id": "220ffc91",
   "metadata": {},
   "outputs": [
    {
     "data": {
      "text/html": [
       "<div>\n",
       "<style scoped>\n",
       "    .dataframe tbody tr th:only-of-type {\n",
       "        vertical-align: middle;\n",
       "    }\n",
       "\n",
       "    .dataframe tbody tr th {\n",
       "        vertical-align: top;\n",
       "    }\n",
       "\n",
       "    .dataframe thead th {\n",
       "        text-align: right;\n",
       "    }\n",
       "</style>\n",
       "<table border=\"1\" class=\"dataframe\">\n",
       "  <thead>\n",
       "    <tr style=\"text-align: right;\">\n",
       "      <th></th>\n",
       "      <th>Name</th>\n",
       "      <th>Year</th>\n",
       "      <th>Duration</th>\n",
       "      <th>Genre</th>\n",
       "      <th>Rating</th>\n",
       "      <th>Votes</th>\n",
       "      <th>Director</th>\n",
       "      <th>Actor 1</th>\n",
       "      <th>Actor 2</th>\n",
       "      <th>Actor 3</th>\n",
       "    </tr>\n",
       "  </thead>\n",
       "  <tbody>\n",
       "    <tr>\n",
       "      <th>0</th>\n",
       "      <td></td>\n",
       "      <td>NaN</td>\n",
       "      <td>NaN</td>\n",
       "      <td>Drama</td>\n",
       "      <td>NaN</td>\n",
       "      <td>NaN</td>\n",
       "      <td>J.S. Randhawa</td>\n",
       "      <td>Manmauji</td>\n",
       "      <td>Birbal</td>\n",
       "      <td>Rajendra Bhatia</td>\n",
       "    </tr>\n",
       "    <tr>\n",
       "      <th>1</th>\n",
       "      <td>#Gadhvi (He thought he was Gandhi)</td>\n",
       "      <td>(2019)</td>\n",
       "      <td>109 min</td>\n",
       "      <td>Drama</td>\n",
       "      <td>7.0</td>\n",
       "      <td>8</td>\n",
       "      <td>Gaurav Bakshi</td>\n",
       "      <td>Rasika Dugal</td>\n",
       "      <td>Vivek Ghamande</td>\n",
       "      <td>Arvind Jangid</td>\n",
       "    </tr>\n",
       "    <tr>\n",
       "      <th>2</th>\n",
       "      <td>#Homecoming</td>\n",
       "      <td>(2021)</td>\n",
       "      <td>90 min</td>\n",
       "      <td>Drama, Musical</td>\n",
       "      <td>NaN</td>\n",
       "      <td>NaN</td>\n",
       "      <td>Soumyajit Majumdar</td>\n",
       "      <td>Sayani Gupta</td>\n",
       "      <td>Plabita Borthakur</td>\n",
       "      <td>Roy Angana</td>\n",
       "    </tr>\n",
       "    <tr>\n",
       "      <th>3</th>\n",
       "      <td>#Yaaram</td>\n",
       "      <td>(2019)</td>\n",
       "      <td>110 min</td>\n",
       "      <td>Comedy, Romance</td>\n",
       "      <td>4.4</td>\n",
       "      <td>35</td>\n",
       "      <td>Ovais Khan</td>\n",
       "      <td>Prateik</td>\n",
       "      <td>Ishita Raj</td>\n",
       "      <td>Siddhant Kapoor</td>\n",
       "    </tr>\n",
       "    <tr>\n",
       "      <th>4</th>\n",
       "      <td>...And Once Again</td>\n",
       "      <td>(2010)</td>\n",
       "      <td>105 min</td>\n",
       "      <td>Drama</td>\n",
       "      <td>NaN</td>\n",
       "      <td>NaN</td>\n",
       "      <td>Amol Palekar</td>\n",
       "      <td>Rajat Kapoor</td>\n",
       "      <td>Rituparna Sengupta</td>\n",
       "      <td>Antara Mali</td>\n",
       "    </tr>\n",
       "  </tbody>\n",
       "</table>\n",
       "</div>"
      ],
      "text/plain": [
       "                                 Name    Year Duration            Genre  \\\n",
       "0                                         NaN      NaN            Drama   \n",
       "1  #Gadhvi (He thought he was Gandhi)  (2019)  109 min            Drama   \n",
       "2                         #Homecoming  (2021)   90 min   Drama, Musical   \n",
       "3                             #Yaaram  (2019)  110 min  Comedy, Romance   \n",
       "4                   ...And Once Again  (2010)  105 min            Drama   \n",
       "\n",
       "   Rating Votes            Director       Actor 1             Actor 2  \\\n",
       "0     NaN   NaN       J.S. Randhawa      Manmauji              Birbal   \n",
       "1     7.0     8       Gaurav Bakshi  Rasika Dugal      Vivek Ghamande   \n",
       "2     NaN   NaN  Soumyajit Majumdar  Sayani Gupta   Plabita Borthakur   \n",
       "3     4.4    35          Ovais Khan       Prateik          Ishita Raj   \n",
       "4     NaN   NaN        Amol Palekar  Rajat Kapoor  Rituparna Sengupta   \n",
       "\n",
       "           Actor 3  \n",
       "0  Rajendra Bhatia  \n",
       "1    Arvind Jangid  \n",
       "2       Roy Angana  \n",
       "3  Siddhant Kapoor  \n",
       "4      Antara Mali  "
      ]
     },
     "execution_count": 5,
     "metadata": {},
     "output_type": "execute_result"
    }
   ],
   "source": [
    "df.head()"
   ]
  },
  {
   "cell_type": "code",
   "execution_count": 6,
   "id": "87e98eb1",
   "metadata": {},
   "outputs": [
    {
     "name": "stdout",
     "output_type": "stream",
     "text": [
      "<class 'pandas.core.frame.DataFrame'>\n",
      "RangeIndex: 15509 entries, 0 to 15508\n",
      "Data columns (total 10 columns):\n",
      " #   Column    Non-Null Count  Dtype  \n",
      "---  ------    --------------  -----  \n",
      " 0   Name      15509 non-null  object \n",
      " 1   Year      14981 non-null  object \n",
      " 2   Duration  7240 non-null   object \n",
      " 3   Genre     13632 non-null  object \n",
      " 4   Rating    7919 non-null   float64\n",
      " 5   Votes     7920 non-null   object \n",
      " 6   Director  14984 non-null  object \n",
      " 7   Actor 1   13892 non-null  object \n",
      " 8   Actor 2   13125 non-null  object \n",
      " 9   Actor 3   12365 non-null  object \n",
      "dtypes: float64(1), object(9)\n",
      "memory usage: 1.2+ MB\n"
     ]
    }
   ],
   "source": [
    "df.info()"
   ]
  },
  {
   "cell_type": "code",
   "execution_count": 7,
   "id": "167cda7d",
   "metadata": {},
   "outputs": [
    {
     "data": {
      "text/plain": [
       "(15509, 10)"
      ]
     },
     "execution_count": 7,
     "metadata": {},
     "output_type": "execute_result"
    }
   ],
   "source": [
    "df.shape"
   ]
  },
  {
   "cell_type": "code",
   "execution_count": 8,
   "id": "9d7fbf26",
   "metadata": {},
   "outputs": [
    {
     "data": {
      "text/html": [
       "<div>\n",
       "<style scoped>\n",
       "    .dataframe tbody tr th:only-of-type {\n",
       "        vertical-align: middle;\n",
       "    }\n",
       "\n",
       "    .dataframe tbody tr th {\n",
       "        vertical-align: top;\n",
       "    }\n",
       "\n",
       "    .dataframe thead th {\n",
       "        text-align: right;\n",
       "    }\n",
       "</style>\n",
       "<table border=\"1\" class=\"dataframe\">\n",
       "  <thead>\n",
       "    <tr style=\"text-align: right;\">\n",
       "      <th></th>\n",
       "      <th>Rating</th>\n",
       "    </tr>\n",
       "  </thead>\n",
       "  <tbody>\n",
       "    <tr>\n",
       "      <th>count</th>\n",
       "      <td>7919.000000</td>\n",
       "    </tr>\n",
       "    <tr>\n",
       "      <th>mean</th>\n",
       "      <td>5.841621</td>\n",
       "    </tr>\n",
       "    <tr>\n",
       "      <th>std</th>\n",
       "      <td>1.381777</td>\n",
       "    </tr>\n",
       "    <tr>\n",
       "      <th>min</th>\n",
       "      <td>1.100000</td>\n",
       "    </tr>\n",
       "    <tr>\n",
       "      <th>25%</th>\n",
       "      <td>4.900000</td>\n",
       "    </tr>\n",
       "    <tr>\n",
       "      <th>50%</th>\n",
       "      <td>6.000000</td>\n",
       "    </tr>\n",
       "    <tr>\n",
       "      <th>75%</th>\n",
       "      <td>6.800000</td>\n",
       "    </tr>\n",
       "    <tr>\n",
       "      <th>max</th>\n",
       "      <td>10.000000</td>\n",
       "    </tr>\n",
       "  </tbody>\n",
       "</table>\n",
       "</div>"
      ],
      "text/plain": [
       "            Rating\n",
       "count  7919.000000\n",
       "mean      5.841621\n",
       "std       1.381777\n",
       "min       1.100000\n",
       "25%       4.900000\n",
       "50%       6.000000\n",
       "75%       6.800000\n",
       "max      10.000000"
      ]
     },
     "execution_count": 8,
     "metadata": {},
     "output_type": "execute_result"
    }
   ],
   "source": [
    "df.describe()"
   ]
  },
  {
   "cell_type": "code",
   "execution_count": 9,
   "id": "52476ab5",
   "metadata": {},
   "outputs": [
    {
     "data": {
      "text/plain": [
       "Name           0\n",
       "Year         528\n",
       "Duration    8269\n",
       "Genre       1877\n",
       "Rating      7590\n",
       "Votes       7589\n",
       "Director     525\n",
       "Actor 1     1617\n",
       "Actor 2     2384\n",
       "Actor 3     3144\n",
       "dtype: int64"
      ]
     },
     "execution_count": 9,
     "metadata": {},
     "output_type": "execute_result"
    }
   ],
   "source": [
    "df.isnull().sum()"
   ]
  },
  {
   "cell_type": "code",
   "execution_count": 10,
   "id": "9b749b97",
   "metadata": {},
   "outputs": [
    {
     "data": {
      "text/plain": [
       "6.2     269\n",
       "6.8     264\n",
       "6.5     254\n",
       "6.6     239\n",
       "6.7     227\n",
       "       ... \n",
       "9.6       1\n",
       "1.4       1\n",
       "9.7       1\n",
       "10.0      1\n",
       "1.1       1\n",
       "Name: Rating, Length: 84, dtype: int64"
      ]
     },
     "execution_count": 10,
     "metadata": {},
     "output_type": "execute_result"
    }
   ],
   "source": [
    "df['Rating'].value_counts()"
   ]
  },
  {
   "cell_type": "code",
   "execution_count": 11,
   "id": "7fcb9efa",
   "metadata": {},
   "outputs": [
    {
     "data": {
      "text/plain": [
       "5.8416214168455545"
      ]
     },
     "execution_count": 11,
     "metadata": {},
     "output_type": "execute_result"
    }
   ],
   "source": [
    "df['Rating'].mean()"
   ]
  },
  {
   "cell_type": "code",
   "execution_count": 12,
   "id": "7770a5c4",
   "metadata": {},
   "outputs": [],
   "source": [
    "df[\"Rating\"].fillna(df['Rating'].mean(),inplace=True)"
   ]
  },
  {
   "cell_type": "code",
   "execution_count": 13,
   "id": "331c594a",
   "metadata": {},
   "outputs": [
    {
     "data": {
      "text/plain": [
       "Name           0\n",
       "Year         528\n",
       "Duration    8269\n",
       "Genre       1877\n",
       "Rating         0\n",
       "Votes       7589\n",
       "Director     525\n",
       "Actor 1     1617\n",
       "Actor 2     2384\n",
       "Actor 3     3144\n",
       "dtype: int64"
      ]
     },
     "execution_count": 13,
     "metadata": {},
     "output_type": "execute_result"
    }
   ],
   "source": [
    "df.isnull().sum()"
   ]
  },
  {
   "cell_type": "code",
   "execution_count": 14,
   "id": "c8ca0500",
   "metadata": {},
   "outputs": [
    {
     "data": {
      "text/plain": [
       "6"
      ]
     },
     "execution_count": 14,
     "metadata": {},
     "output_type": "execute_result"
    }
   ],
   "source": [
    "df.duplicated().sum()"
   ]
  },
  {
   "cell_type": "code",
   "execution_count": 15,
   "id": "ae37f0e0",
   "metadata": {},
   "outputs": [],
   "source": [
    "df.drop_duplicates(inplace=True)"
   ]
  },
  {
   "cell_type": "code",
   "execution_count": 16,
   "id": "50bf42a5",
   "metadata": {},
   "outputs": [
    {
     "data": {
      "text/plain": [
       "0"
      ]
     },
     "execution_count": 16,
     "metadata": {},
     "output_type": "execute_result"
    }
   ],
   "source": [
    "df.duplicated().sum()"
   ]
  },
  {
   "cell_type": "code",
   "execution_count": 17,
   "id": "53599f70",
   "metadata": {},
   "outputs": [],
   "source": [
    "df.drop(columns=[\"Name\",\"Duration\"],axis=1,inplace=True)"
   ]
  },
  {
   "cell_type": "code",
   "execution_count": 18,
   "id": "0f4ef2d7",
   "metadata": {},
   "outputs": [
    {
     "data": {
      "text/html": [
       "<div>\n",
       "<style scoped>\n",
       "    .dataframe tbody tr th:only-of-type {\n",
       "        vertical-align: middle;\n",
       "    }\n",
       "\n",
       "    .dataframe tbody tr th {\n",
       "        vertical-align: top;\n",
       "    }\n",
       "\n",
       "    .dataframe thead th {\n",
       "        text-align: right;\n",
       "    }\n",
       "</style>\n",
       "<table border=\"1\" class=\"dataframe\">\n",
       "  <thead>\n",
       "    <tr style=\"text-align: right;\">\n",
       "      <th></th>\n",
       "      <th>Year</th>\n",
       "      <th>Genre</th>\n",
       "      <th>Rating</th>\n",
       "      <th>Votes</th>\n",
       "      <th>Director</th>\n",
       "      <th>Actor 1</th>\n",
       "      <th>Actor 2</th>\n",
       "      <th>Actor 3</th>\n",
       "    </tr>\n",
       "  </thead>\n",
       "  <tbody>\n",
       "    <tr>\n",
       "      <th>0</th>\n",
       "      <td>NaN</td>\n",
       "      <td>Drama</td>\n",
       "      <td>5.841621</td>\n",
       "      <td>NaN</td>\n",
       "      <td>J.S. Randhawa</td>\n",
       "      <td>Manmauji</td>\n",
       "      <td>Birbal</td>\n",
       "      <td>Rajendra Bhatia</td>\n",
       "    </tr>\n",
       "    <tr>\n",
       "      <th>1</th>\n",
       "      <td>(2019)</td>\n",
       "      <td>Drama</td>\n",
       "      <td>7.000000</td>\n",
       "      <td>8</td>\n",
       "      <td>Gaurav Bakshi</td>\n",
       "      <td>Rasika Dugal</td>\n",
       "      <td>Vivek Ghamande</td>\n",
       "      <td>Arvind Jangid</td>\n",
       "    </tr>\n",
       "    <tr>\n",
       "      <th>2</th>\n",
       "      <td>(2021)</td>\n",
       "      <td>Drama, Musical</td>\n",
       "      <td>5.841621</td>\n",
       "      <td>NaN</td>\n",
       "      <td>Soumyajit Majumdar</td>\n",
       "      <td>Sayani Gupta</td>\n",
       "      <td>Plabita Borthakur</td>\n",
       "      <td>Roy Angana</td>\n",
       "    </tr>\n",
       "    <tr>\n",
       "      <th>3</th>\n",
       "      <td>(2019)</td>\n",
       "      <td>Comedy, Romance</td>\n",
       "      <td>4.400000</td>\n",
       "      <td>35</td>\n",
       "      <td>Ovais Khan</td>\n",
       "      <td>Prateik</td>\n",
       "      <td>Ishita Raj</td>\n",
       "      <td>Siddhant Kapoor</td>\n",
       "    </tr>\n",
       "    <tr>\n",
       "      <th>4</th>\n",
       "      <td>(2010)</td>\n",
       "      <td>Drama</td>\n",
       "      <td>5.841621</td>\n",
       "      <td>NaN</td>\n",
       "      <td>Amol Palekar</td>\n",
       "      <td>Rajat Kapoor</td>\n",
       "      <td>Rituparna Sengupta</td>\n",
       "      <td>Antara Mali</td>\n",
       "    </tr>\n",
       "  </tbody>\n",
       "</table>\n",
       "</div>"
      ],
      "text/plain": [
       "     Year            Genre    Rating Votes            Director       Actor 1  \\\n",
       "0     NaN            Drama  5.841621   NaN       J.S. Randhawa      Manmauji   \n",
       "1  (2019)            Drama  7.000000     8       Gaurav Bakshi  Rasika Dugal   \n",
       "2  (2021)   Drama, Musical  5.841621   NaN  Soumyajit Majumdar  Sayani Gupta   \n",
       "3  (2019)  Comedy, Romance  4.400000    35          Ovais Khan       Prateik   \n",
       "4  (2010)            Drama  5.841621   NaN        Amol Palekar  Rajat Kapoor   \n",
       "\n",
       "              Actor 2          Actor 3  \n",
       "0              Birbal  Rajendra Bhatia  \n",
       "1      Vivek Ghamande    Arvind Jangid  \n",
       "2   Plabita Borthakur       Roy Angana  \n",
       "3          Ishita Raj  Siddhant Kapoor  \n",
       "4  Rituparna Sengupta      Antara Mali  "
      ]
     },
     "execution_count": 18,
     "metadata": {},
     "output_type": "execute_result"
    }
   ],
   "source": [
    "df.head()"
   ]
  },
  {
   "cell_type": "code",
   "execution_count": 19,
   "id": "2e9015eb",
   "metadata": {},
   "outputs": [
    {
     "data": {
      "text/plain": [
       "Year         527\n",
       "Genre       1876\n",
       "Rating         0\n",
       "Votes       7583\n",
       "Director     524\n",
       "Actor 1     1615\n",
       "Actor 2     2381\n",
       "Actor 3     3140\n",
       "dtype: int64"
      ]
     },
     "execution_count": 19,
     "metadata": {},
     "output_type": "execute_result"
    }
   ],
   "source": [
    "df.isnull().sum()"
   ]
  },
  {
   "cell_type": "code",
   "execution_count": 20,
   "id": "8d8ba392",
   "metadata": {},
   "outputs": [
    {
     "name": "stdout",
     "output_type": "stream",
     "text": [
      "<class 'pandas.core.frame.DataFrame'>\n",
      "Int64Index: 15503 entries, 0 to 15508\n",
      "Data columns (total 8 columns):\n",
      " #   Column    Non-Null Count  Dtype  \n",
      "---  ------    --------------  -----  \n",
      " 0   Year      14976 non-null  object \n",
      " 1   Genre     13627 non-null  object \n",
      " 2   Rating    15503 non-null  float64\n",
      " 3   Votes     7920 non-null   object \n",
      " 4   Director  14979 non-null  object \n",
      " 5   Actor 1   13888 non-null  object \n",
      " 6   Actor 2   13122 non-null  object \n",
      " 7   Actor 3   12363 non-null  object \n",
      "dtypes: float64(1), object(7)\n",
      "memory usage: 1.1+ MB\n"
     ]
    }
   ],
   "source": [
    "df.info()"
   ]
  },
  {
   "cell_type": "code",
   "execution_count": 21,
   "id": "69c44704",
   "metadata": {},
   "outputs": [],
   "source": [
    "list1=list(df.columns[df.dtypes==\"object\"])"
   ]
  },
  {
   "cell_type": "code",
   "execution_count": 22,
   "id": "264503d1",
   "metadata": {},
   "outputs": [
    {
     "data": {
      "text/plain": [
       "['Year', 'Genre', 'Votes', 'Director', 'Actor 1', 'Actor 2', 'Actor 3']"
      ]
     },
     "execution_count": 22,
     "metadata": {},
     "output_type": "execute_result"
    }
   ],
   "source": [
    "list1"
   ]
  },
  {
   "cell_type": "code",
   "execution_count": 23,
   "id": "04e41e3c",
   "metadata": {},
   "outputs": [],
   "source": [
    "for i in list1:\n",
    "    m=df[i].mode()[0]\n",
    "    df[i].fillna(m,inplace=True)"
   ]
  },
  {
   "cell_type": "code",
   "execution_count": 24,
   "id": "6de6e82d",
   "metadata": {},
   "outputs": [
    {
     "data": {
      "text/html": [
       "<div>\n",
       "<style scoped>\n",
       "    .dataframe tbody tr th:only-of-type {\n",
       "        vertical-align: middle;\n",
       "    }\n",
       "\n",
       "    .dataframe tbody tr th {\n",
       "        vertical-align: top;\n",
       "    }\n",
       "\n",
       "    .dataframe thead th {\n",
       "        text-align: right;\n",
       "    }\n",
       "</style>\n",
       "<table border=\"1\" class=\"dataframe\">\n",
       "  <thead>\n",
       "    <tr style=\"text-align: right;\">\n",
       "      <th></th>\n",
       "      <th>Year</th>\n",
       "      <th>Genre</th>\n",
       "      <th>Rating</th>\n",
       "      <th>Votes</th>\n",
       "      <th>Director</th>\n",
       "      <th>Actor 1</th>\n",
       "      <th>Actor 2</th>\n",
       "      <th>Actor 3</th>\n",
       "    </tr>\n",
       "  </thead>\n",
       "  <tbody>\n",
       "    <tr>\n",
       "      <th>0</th>\n",
       "      <td>(2019)</td>\n",
       "      <td>Drama</td>\n",
       "      <td>5.841621</td>\n",
       "      <td>8</td>\n",
       "      <td>J.S. Randhawa</td>\n",
       "      <td>Manmauji</td>\n",
       "      <td>Birbal</td>\n",
       "      <td>Rajendra Bhatia</td>\n",
       "    </tr>\n",
       "    <tr>\n",
       "      <th>1</th>\n",
       "      <td>(2019)</td>\n",
       "      <td>Drama</td>\n",
       "      <td>7.000000</td>\n",
       "      <td>8</td>\n",
       "      <td>Gaurav Bakshi</td>\n",
       "      <td>Rasika Dugal</td>\n",
       "      <td>Vivek Ghamande</td>\n",
       "      <td>Arvind Jangid</td>\n",
       "    </tr>\n",
       "    <tr>\n",
       "      <th>2</th>\n",
       "      <td>(2021)</td>\n",
       "      <td>Drama, Musical</td>\n",
       "      <td>5.841621</td>\n",
       "      <td>8</td>\n",
       "      <td>Soumyajit Majumdar</td>\n",
       "      <td>Sayani Gupta</td>\n",
       "      <td>Plabita Borthakur</td>\n",
       "      <td>Roy Angana</td>\n",
       "    </tr>\n",
       "    <tr>\n",
       "      <th>3</th>\n",
       "      <td>(2019)</td>\n",
       "      <td>Comedy, Romance</td>\n",
       "      <td>4.400000</td>\n",
       "      <td>35</td>\n",
       "      <td>Ovais Khan</td>\n",
       "      <td>Prateik</td>\n",
       "      <td>Ishita Raj</td>\n",
       "      <td>Siddhant Kapoor</td>\n",
       "    </tr>\n",
       "    <tr>\n",
       "      <th>4</th>\n",
       "      <td>(2010)</td>\n",
       "      <td>Drama</td>\n",
       "      <td>5.841621</td>\n",
       "      <td>8</td>\n",
       "      <td>Amol Palekar</td>\n",
       "      <td>Rajat Kapoor</td>\n",
       "      <td>Rituparna Sengupta</td>\n",
       "      <td>Antara Mali</td>\n",
       "    </tr>\n",
       "  </tbody>\n",
       "</table>\n",
       "</div>"
      ],
      "text/plain": [
       "     Year            Genre    Rating Votes            Director       Actor 1  \\\n",
       "0  (2019)            Drama  5.841621     8       J.S. Randhawa      Manmauji   \n",
       "1  (2019)            Drama  7.000000     8       Gaurav Bakshi  Rasika Dugal   \n",
       "2  (2021)   Drama, Musical  5.841621     8  Soumyajit Majumdar  Sayani Gupta   \n",
       "3  (2019)  Comedy, Romance  4.400000    35          Ovais Khan       Prateik   \n",
       "4  (2010)            Drama  5.841621     8        Amol Palekar  Rajat Kapoor   \n",
       "\n",
       "              Actor 2          Actor 3  \n",
       "0              Birbal  Rajendra Bhatia  \n",
       "1      Vivek Ghamande    Arvind Jangid  \n",
       "2   Plabita Borthakur       Roy Angana  \n",
       "3          Ishita Raj  Siddhant Kapoor  \n",
       "4  Rituparna Sengupta      Antara Mali  "
      ]
     },
     "execution_count": 24,
     "metadata": {},
     "output_type": "execute_result"
    }
   ],
   "source": [
    "df.head()"
   ]
  },
  {
   "cell_type": "code",
   "execution_count": 25,
   "id": "f304b44b",
   "metadata": {},
   "outputs": [
    {
     "data": {
      "text/plain": [
       "5.841621416844872"
      ]
     },
     "execution_count": 25,
     "metadata": {},
     "output_type": "execute_result"
    }
   ],
   "source": [
    "df['Rating'].mean()"
   ]
  },
  {
   "cell_type": "code",
   "execution_count": 26,
   "id": "1a6d15c4",
   "metadata": {},
   "outputs": [],
   "source": [
    "df.fillna(df['Rating'].mean(),inplace=True)"
   ]
  },
  {
   "cell_type": "code",
   "execution_count": 27,
   "id": "83c4b2c2",
   "metadata": {},
   "outputs": [
    {
     "data": {
      "text/plain": [
       "Year        0\n",
       "Genre       0\n",
       "Rating      0\n",
       "Votes       0\n",
       "Director    0\n",
       "Actor 1     0\n",
       "Actor 2     0\n",
       "Actor 3     0\n",
       "dtype: int64"
      ]
     },
     "execution_count": 27,
     "metadata": {},
     "output_type": "execute_result"
    }
   ],
   "source": [
    "df.isnull().sum()"
   ]
  },
  {
   "cell_type": "code",
   "execution_count": 28,
   "id": "d9b7fc3b",
   "metadata": {},
   "outputs": [
    {
     "data": {
      "text/html": [
       "<div>\n",
       "<style scoped>\n",
       "    .dataframe tbody tr th:only-of-type {\n",
       "        vertical-align: middle;\n",
       "    }\n",
       "\n",
       "    .dataframe tbody tr th {\n",
       "        vertical-align: top;\n",
       "    }\n",
       "\n",
       "    .dataframe thead th {\n",
       "        text-align: right;\n",
       "    }\n",
       "</style>\n",
       "<table border=\"1\" class=\"dataframe\">\n",
       "  <thead>\n",
       "    <tr style=\"text-align: right;\">\n",
       "      <th></th>\n",
       "      <th>Votes</th>\n",
       "    </tr>\n",
       "  </thead>\n",
       "  <tbody>\n",
       "    <tr>\n",
       "      <th>0</th>\n",
       "      <td>8</td>\n",
       "    </tr>\n",
       "    <tr>\n",
       "      <th>1</th>\n",
       "      <td>8</td>\n",
       "    </tr>\n",
       "    <tr>\n",
       "      <th>2</th>\n",
       "      <td>8</td>\n",
       "    </tr>\n",
       "    <tr>\n",
       "      <th>3</th>\n",
       "      <td>35</td>\n",
       "    </tr>\n",
       "    <tr>\n",
       "      <th>4</th>\n",
       "      <td>8</td>\n",
       "    </tr>\n",
       "    <tr>\n",
       "      <th>...</th>\n",
       "      <td>...</td>\n",
       "    </tr>\n",
       "    <tr>\n",
       "      <th>15504</th>\n",
       "      <td>11</td>\n",
       "    </tr>\n",
       "    <tr>\n",
       "      <th>15505</th>\n",
       "      <td>655</td>\n",
       "    </tr>\n",
       "    <tr>\n",
       "      <th>15506</th>\n",
       "      <td>8</td>\n",
       "    </tr>\n",
       "    <tr>\n",
       "      <th>15507</th>\n",
       "      <td>8</td>\n",
       "    </tr>\n",
       "    <tr>\n",
       "      <th>15508</th>\n",
       "      <td>20</td>\n",
       "    </tr>\n",
       "  </tbody>\n",
       "</table>\n",
       "<p>15503 rows × 1 columns</p>\n",
       "</div>"
      ],
      "text/plain": [
       "      Votes\n",
       "0         8\n",
       "1         8\n",
       "2         8\n",
       "3        35\n",
       "4         8\n",
       "...     ...\n",
       "15504    11\n",
       "15505   655\n",
       "15506     8\n",
       "15507     8\n",
       "15508    20\n",
       "\n",
       "[15503 rows x 1 columns]"
      ]
     },
     "execution_count": 28,
     "metadata": {},
     "output_type": "execute_result"
    }
   ],
   "source": [
    "df[['Votes']]"
   ]
  },
  {
   "cell_type": "code",
   "execution_count": 29,
   "id": "61c1e35e",
   "metadata": {},
   "outputs": [
    {
     "data": {
      "text/html": [
       "<div>\n",
       "<style scoped>\n",
       "    .dataframe tbody tr th:only-of-type {\n",
       "        vertical-align: middle;\n",
       "    }\n",
       "\n",
       "    .dataframe tbody tr th {\n",
       "        vertical-align: top;\n",
       "    }\n",
       "\n",
       "    .dataframe thead th {\n",
       "        text-align: right;\n",
       "    }\n",
       "</style>\n",
       "<table border=\"1\" class=\"dataframe\">\n",
       "  <thead>\n",
       "    <tr style=\"text-align: right;\">\n",
       "      <th></th>\n",
       "      <th>Votes</th>\n",
       "    </tr>\n",
       "  </thead>\n",
       "  <tbody>\n",
       "    <tr>\n",
       "      <th>10648</th>\n",
       "      <td>72</td>\n",
       "    </tr>\n",
       "    <tr>\n",
       "      <th>5242</th>\n",
       "      <td>213</td>\n",
       "    </tr>\n",
       "    <tr>\n",
       "      <th>517</th>\n",
       "      <td>8</td>\n",
       "    </tr>\n",
       "    <tr>\n",
       "      <th>10551</th>\n",
       "      <td>22</td>\n",
       "    </tr>\n",
       "    <tr>\n",
       "      <th>6985</th>\n",
       "      <td>42</td>\n",
       "    </tr>\n",
       "    <tr>\n",
       "      <th>6700</th>\n",
       "      <td>8</td>\n",
       "    </tr>\n",
       "    <tr>\n",
       "      <th>1130</th>\n",
       "      <td>94</td>\n",
       "    </tr>\n",
       "    <tr>\n",
       "      <th>4641</th>\n",
       "      <td>8</td>\n",
       "    </tr>\n",
       "    <tr>\n",
       "      <th>4169</th>\n",
       "      <td>18</td>\n",
       "    </tr>\n",
       "    <tr>\n",
       "      <th>14967</th>\n",
       "      <td>73</td>\n",
       "    </tr>\n",
       "    <tr>\n",
       "      <th>4439</th>\n",
       "      <td>595</td>\n",
       "    </tr>\n",
       "    <tr>\n",
       "      <th>10128</th>\n",
       "      <td>37</td>\n",
       "    </tr>\n",
       "    <tr>\n",
       "      <th>2319</th>\n",
       "      <td>8</td>\n",
       "    </tr>\n",
       "    <tr>\n",
       "      <th>3293</th>\n",
       "      <td>73</td>\n",
       "    </tr>\n",
       "    <tr>\n",
       "      <th>839</th>\n",
       "      <td>8</td>\n",
       "    </tr>\n",
       "    <tr>\n",
       "      <th>5060</th>\n",
       "      <td>640</td>\n",
       "    </tr>\n",
       "    <tr>\n",
       "      <th>4117</th>\n",
       "      <td>1,336</td>\n",
       "    </tr>\n",
       "    <tr>\n",
       "      <th>12873</th>\n",
       "      <td>8</td>\n",
       "    </tr>\n",
       "    <tr>\n",
       "      <th>10978</th>\n",
       "      <td>295</td>\n",
       "    </tr>\n",
       "    <tr>\n",
       "      <th>4141</th>\n",
       "      <td>8</td>\n",
       "    </tr>\n",
       "  </tbody>\n",
       "</table>\n",
       "</div>"
      ],
      "text/plain": [
       "       Votes\n",
       "10648     72\n",
       "5242     213\n",
       "517        8\n",
       "10551     22\n",
       "6985      42\n",
       "6700       8\n",
       "1130      94\n",
       "4641       8\n",
       "4169      18\n",
       "14967     73\n",
       "4439     595\n",
       "10128     37\n",
       "2319       8\n",
       "3293      73\n",
       "839        8\n",
       "5060     640\n",
       "4117   1,336\n",
       "12873      8\n",
       "10978    295\n",
       "4141       8"
      ]
     },
     "execution_count": 29,
     "metadata": {},
     "output_type": "execute_result"
    }
   ],
   "source": [
    "df[['Votes']].sample(20)"
   ]
  },
  {
   "cell_type": "code",
   "execution_count": 30,
   "id": "a235b2f5",
   "metadata": {},
   "outputs": [
    {
     "data": {
      "text/plain": [
       "Year        0\n",
       "Genre       0\n",
       "Rating      0\n",
       "Votes       0\n",
       "Director    0\n",
       "Actor 1     0\n",
       "Actor 2     0\n",
       "Actor 3     0\n",
       "dtype: int64"
      ]
     },
     "execution_count": 30,
     "metadata": {},
     "output_type": "execute_result"
    }
   ],
   "source": [
    "df.isna().sum()"
   ]
  },
  {
   "cell_type": "code",
   "execution_count": 31,
   "id": "e52aa796",
   "metadata": {},
   "outputs": [
    {
     "data": {
      "text/plain": [
       "Year         object\n",
       "Genre        object\n",
       "Rating      float64\n",
       "Votes        object\n",
       "Director     object\n",
       "Actor 1      object\n",
       "Actor 2      object\n",
       "Actor 3      object\n",
       "dtype: object"
      ]
     },
     "execution_count": 31,
     "metadata": {},
     "output_type": "execute_result"
    }
   ],
   "source": [
    "df.dtypes"
   ]
  },
  {
   "cell_type": "code",
   "execution_count": 32,
   "id": "abfd7e7b",
   "metadata": {},
   "outputs": [
    {
     "name": "stderr",
     "output_type": "stream",
     "text": [
      "C:\\Users\\Jagrati Garg\\AppData\\Local\\Temp\\ipykernel_10336\\2835848692.py:2: FutureWarning: The default value of regex will change from True to False in a future version. In addition, single character regular expressions will *not* be treated as literal strings when regex=True.\n",
      "  df['Votes'] = df['Votes'].str.replace('.','')\n"
     ]
    }
   ],
   "source": [
    "df['Votes'] = df['Votes'].str.replace(',','')\n",
    "df['Votes'] = df['Votes'].str.replace('.','')\n",
    "df['Votes'] = df['Votes'].str.strip('$')\n",
    "df['Votes'] = df['Votes'].str.strip('M')\n",
    "df['Votes'] = df['Votes'].astype(int)"
   ]
  },
  {
   "cell_type": "code",
   "execution_count": 33,
   "id": "6cd2c2df",
   "metadata": {},
   "outputs": [],
   "source": [
    "df['Year']= df['Year'].str.strip('()').astype(int)"
   ]
  },
  {
   "cell_type": "code",
   "execution_count": 34,
   "id": "8727fc2a",
   "metadata": {},
   "outputs": [
    {
     "data": {
      "text/plain": [
       "(15503, 8)"
      ]
     },
     "execution_count": 34,
     "metadata": {},
     "output_type": "execute_result"
    }
   ],
   "source": [
    "df.shape"
   ]
  },
  {
   "cell_type": "code",
   "execution_count": 35,
   "id": "f344275b",
   "metadata": {},
   "outputs": [
    {
     "data": {
      "text/plain": [
       "2019    935\n",
       "2021    392\n",
       "2018    381\n",
       "2017    360\n",
       "2005    346\n",
       "       ... \n",
       "1917      1\n",
       "1913      1\n",
       "1926      1\n",
       "1914      1\n",
       "1924      1\n",
       "Name: Year, Length: 102, dtype: int64"
      ]
     },
     "execution_count": 35,
     "metadata": {},
     "output_type": "execute_result"
    }
   ],
   "source": [
    "df['Year'].value_counts()"
   ]
  },
  {
   "cell_type": "code",
   "execution_count": 36,
   "id": "1c88ffa8",
   "metadata": {},
   "outputs": [
    {
     "data": {
      "text/plain": [
       "Year         102\n",
       "Genre        485\n",
       "Rating        85\n",
       "Votes       2034\n",
       "Director    5938\n",
       "Actor 1     4718\n",
       "Actor 2     4891\n",
       "Actor 3     4820\n",
       "dtype: int64"
      ]
     },
     "execution_count": 36,
     "metadata": {},
     "output_type": "execute_result"
    }
   ],
   "source": [
    "df.nunique()"
   ]
  },
  {
   "cell_type": "code",
   "execution_count": 37,
   "id": "ccf9acb5",
   "metadata": {},
   "outputs": [
    {
     "data": {
      "text/html": [
       "<div>\n",
       "<style scoped>\n",
       "    .dataframe tbody tr th:only-of-type {\n",
       "        vertical-align: middle;\n",
       "    }\n",
       "\n",
       "    .dataframe tbody tr th {\n",
       "        vertical-align: top;\n",
       "    }\n",
       "\n",
       "    .dataframe thead th {\n",
       "        text-align: right;\n",
       "    }\n",
       "</style>\n",
       "<table border=\"1\" class=\"dataframe\">\n",
       "  <thead>\n",
       "    <tr style=\"text-align: right;\">\n",
       "      <th></th>\n",
       "      <th>Year</th>\n",
       "      <th>Rating</th>\n",
       "      <th>Genre encoded</th>\n",
       "      <th>Votes encoded</th>\n",
       "      <th>Director encoded</th>\n",
       "      <th>Actor 1 encoded</th>\n",
       "      <th>Actor 2 encoded</th>\n",
       "      <th>Actor 3 encoded</th>\n",
       "    </tr>\n",
       "  </thead>\n",
       "  <tbody>\n",
       "    <tr>\n",
       "      <th>0</th>\n",
       "      <td>2019</td>\n",
       "      <td>5.8</td>\n",
       "      <td>6.0</td>\n",
       "      <td>5.8</td>\n",
       "      <td>5.8</td>\n",
       "      <td>5.8</td>\n",
       "      <td>5.5</td>\n",
       "      <td>5.8</td>\n",
       "    </tr>\n",
       "    <tr>\n",
       "      <th>1</th>\n",
       "      <td>2019</td>\n",
       "      <td>7.0</td>\n",
       "      <td>6.0</td>\n",
       "      <td>5.8</td>\n",
       "      <td>7.0</td>\n",
       "      <td>6.8</td>\n",
       "      <td>7.0</td>\n",
       "      <td>7.0</td>\n",
       "    </tr>\n",
       "    <tr>\n",
       "      <th>2</th>\n",
       "      <td>2021</td>\n",
       "      <td>5.8</td>\n",
       "      <td>6.3</td>\n",
       "      <td>5.8</td>\n",
       "      <td>5.8</td>\n",
       "      <td>6.2</td>\n",
       "      <td>6.8</td>\n",
       "      <td>5.8</td>\n",
       "    </tr>\n",
       "    <tr>\n",
       "      <th>3</th>\n",
       "      <td>2019</td>\n",
       "      <td>4.4</td>\n",
       "      <td>5.7</td>\n",
       "      <td>5.9</td>\n",
       "      <td>4.4</td>\n",
       "      <td>5.4</td>\n",
       "      <td>4.4</td>\n",
       "      <td>4.4</td>\n",
       "    </tr>\n",
       "    <tr>\n",
       "      <th>4</th>\n",
       "      <td>2010</td>\n",
       "      <td>5.8</td>\n",
       "      <td>6.0</td>\n",
       "      <td>5.8</td>\n",
       "      <td>6.3</td>\n",
       "      <td>6.8</td>\n",
       "      <td>5.8</td>\n",
       "      <td>5.5</td>\n",
       "    </tr>\n",
       "  </tbody>\n",
       "</table>\n",
       "</div>"
      ],
      "text/plain": [
       "   Year  Rating  Genre encoded  Votes encoded  Director encoded  \\\n",
       "0  2019     5.8            6.0            5.8               5.8   \n",
       "1  2019     7.0            6.0            5.8               7.0   \n",
       "2  2021     5.8            6.3            5.8               5.8   \n",
       "3  2019     4.4            5.7            5.9               4.4   \n",
       "4  2010     5.8            6.0            5.8               6.3   \n",
       "\n",
       "   Actor 1 encoded  Actor 2 encoded  Actor 3 encoded  \n",
       "0              5.8              5.5              5.8  \n",
       "1              6.8              7.0              7.0  \n",
       "2              6.2              6.8              5.8  \n",
       "3              5.4              4.4              4.4  \n",
       "4              6.8              5.8              5.5  "
      ]
     },
     "execution_count": 37,
     "metadata": {},
     "output_type": "execute_result"
    }
   ],
   "source": [
    "df['Genre encoded'] = round(df.groupby('Genre')['Rating'].transform('mean'),1)\n",
    "df['Votes encoded'] = round(df.groupby('Votes')['Rating'].transform('mean'),1)\n",
    "df['Director encoded'] = round(df.groupby('Director')['Rating'].transform('mean'),1)\n",
    "df['Actor 1 encoded'] = round(df.groupby('Actor 1')['Rating'].transform('mean'),1)\n",
    "df['Actor 2 encoded'] = round(df.groupby('Actor 2')['Rating'].transform('mean'),1)\n",
    "df['Actor 3 encoded'] = round(df.groupby('Actor 3')['Rating'].transform('mean'),1)\n",
    "\n",
    "df.drop(columns=['Genre','Votes','Director','Actor 1','Actor 2','Actor 3'],inplace=True)\n",
    "df['Rating'] = round(df['Rating'],1)\n",
    "df.head()"
   ]
  },
  {
   "cell_type": "code",
   "execution_count": 40,
   "id": "e597db66",
   "metadata": {},
   "outputs": [],
   "source": [
    "X=df.drop(columns='Rating')\n",
    "Y=df[['Rating']]"
   ]
  },
  {
   "cell_type": "code",
   "execution_count": 41,
   "id": "2acda9a6",
   "metadata": {},
   "outputs": [
    {
     "data": {
      "text/html": [
       "<div>\n",
       "<style scoped>\n",
       "    .dataframe tbody tr th:only-of-type {\n",
       "        vertical-align: middle;\n",
       "    }\n",
       "\n",
       "    .dataframe tbody tr th {\n",
       "        vertical-align: top;\n",
       "    }\n",
       "\n",
       "    .dataframe thead th {\n",
       "        text-align: right;\n",
       "    }\n",
       "</style>\n",
       "<table border=\"1\" class=\"dataframe\">\n",
       "  <thead>\n",
       "    <tr style=\"text-align: right;\">\n",
       "      <th></th>\n",
       "      <th>Year</th>\n",
       "      <th>Genre encoded</th>\n",
       "      <th>Votes encoded</th>\n",
       "      <th>Director encoded</th>\n",
       "      <th>Actor 1 encoded</th>\n",
       "      <th>Actor 2 encoded</th>\n",
       "      <th>Actor 3 encoded</th>\n",
       "    </tr>\n",
       "  </thead>\n",
       "  <tbody>\n",
       "    <tr>\n",
       "      <th>0</th>\n",
       "      <td>2019</td>\n",
       "      <td>6.0</td>\n",
       "      <td>5.8</td>\n",
       "      <td>5.8</td>\n",
       "      <td>5.8</td>\n",
       "      <td>5.5</td>\n",
       "      <td>5.8</td>\n",
       "    </tr>\n",
       "    <tr>\n",
       "      <th>1</th>\n",
       "      <td>2019</td>\n",
       "      <td>6.0</td>\n",
       "      <td>5.8</td>\n",
       "      <td>7.0</td>\n",
       "      <td>6.8</td>\n",
       "      <td>7.0</td>\n",
       "      <td>7.0</td>\n",
       "    </tr>\n",
       "    <tr>\n",
       "      <th>2</th>\n",
       "      <td>2021</td>\n",
       "      <td>6.3</td>\n",
       "      <td>5.8</td>\n",
       "      <td>5.8</td>\n",
       "      <td>6.2</td>\n",
       "      <td>6.8</td>\n",
       "      <td>5.8</td>\n",
       "    </tr>\n",
       "    <tr>\n",
       "      <th>3</th>\n",
       "      <td>2019</td>\n",
       "      <td>5.7</td>\n",
       "      <td>5.9</td>\n",
       "      <td>4.4</td>\n",
       "      <td>5.4</td>\n",
       "      <td>4.4</td>\n",
       "      <td>4.4</td>\n",
       "    </tr>\n",
       "    <tr>\n",
       "      <th>4</th>\n",
       "      <td>2010</td>\n",
       "      <td>6.0</td>\n",
       "      <td>5.8</td>\n",
       "      <td>6.3</td>\n",
       "      <td>6.8</td>\n",
       "      <td>5.8</td>\n",
       "      <td>5.5</td>\n",
       "    </tr>\n",
       "    <tr>\n",
       "      <th>...</th>\n",
       "      <td>...</td>\n",
       "      <td>...</td>\n",
       "      <td>...</td>\n",
       "      <td>...</td>\n",
       "      <td>...</td>\n",
       "      <td>...</td>\n",
       "      <td>...</td>\n",
       "    </tr>\n",
       "    <tr>\n",
       "      <th>15504</th>\n",
       "      <td>1988</td>\n",
       "      <td>5.6</td>\n",
       "      <td>5.4</td>\n",
       "      <td>4.1</td>\n",
       "      <td>6.0</td>\n",
       "      <td>3.7</td>\n",
       "      <td>4.6</td>\n",
       "    </tr>\n",
       "    <tr>\n",
       "      <th>15505</th>\n",
       "      <td>1999</td>\n",
       "      <td>5.5</td>\n",
       "      <td>5.9</td>\n",
       "      <td>5.2</td>\n",
       "      <td>5.5</td>\n",
       "      <td>4.6</td>\n",
       "      <td>5.7</td>\n",
       "    </tr>\n",
       "    <tr>\n",
       "      <th>15506</th>\n",
       "      <td>2005</td>\n",
       "      <td>5.6</td>\n",
       "      <td>5.8</td>\n",
       "      <td>5.8</td>\n",
       "      <td>5.8</td>\n",
       "      <td>5.9</td>\n",
       "      <td>5.9</td>\n",
       "    </tr>\n",
       "    <tr>\n",
       "      <th>15507</th>\n",
       "      <td>1988</td>\n",
       "      <td>5.6</td>\n",
       "      <td>5.8</td>\n",
       "      <td>5.9</td>\n",
       "      <td>5.9</td>\n",
       "      <td>5.9</td>\n",
       "      <td>5.9</td>\n",
       "    </tr>\n",
       "    <tr>\n",
       "      <th>15508</th>\n",
       "      <td>1998</td>\n",
       "      <td>5.5</td>\n",
       "      <td>5.7</td>\n",
       "      <td>4.4</td>\n",
       "      <td>5.7</td>\n",
       "      <td>5.5</td>\n",
       "      <td>5.1</td>\n",
       "    </tr>\n",
       "  </tbody>\n",
       "</table>\n",
       "<p>15503 rows × 7 columns</p>\n",
       "</div>"
      ],
      "text/plain": [
       "       Year  Genre encoded  Votes encoded  Director encoded  Actor 1 encoded  \\\n",
       "0      2019            6.0            5.8               5.8              5.8   \n",
       "1      2019            6.0            5.8               7.0              6.8   \n",
       "2      2021            6.3            5.8               5.8              6.2   \n",
       "3      2019            5.7            5.9               4.4              5.4   \n",
       "4      2010            6.0            5.8               6.3              6.8   \n",
       "...     ...            ...            ...               ...              ...   \n",
       "15504  1988            5.6            5.4               4.1              6.0   \n",
       "15505  1999            5.5            5.9               5.2              5.5   \n",
       "15506  2005            5.6            5.8               5.8              5.8   \n",
       "15507  1988            5.6            5.8               5.9              5.9   \n",
       "15508  1998            5.5            5.7               4.4              5.7   \n",
       "\n",
       "       Actor 2 encoded  Actor 3 encoded  \n",
       "0                  5.5              5.8  \n",
       "1                  7.0              7.0  \n",
       "2                  6.8              5.8  \n",
       "3                  4.4              4.4  \n",
       "4                  5.8              5.5  \n",
       "...                ...              ...  \n",
       "15504              3.7              4.6  \n",
       "15505              4.6              5.7  \n",
       "15506              5.9              5.9  \n",
       "15507              5.9              5.9  \n",
       "15508              5.5              5.1  \n",
       "\n",
       "[15503 rows x 7 columns]"
      ]
     },
     "execution_count": 41,
     "metadata": {},
     "output_type": "execute_result"
    }
   ],
   "source": [
    "X"
   ]
  },
  {
   "cell_type": "code",
   "execution_count": 42,
   "id": "9f977f70",
   "metadata": {},
   "outputs": [
    {
     "data": {
      "text/html": [
       "<div>\n",
       "<style scoped>\n",
       "    .dataframe tbody tr th:only-of-type {\n",
       "        vertical-align: middle;\n",
       "    }\n",
       "\n",
       "    .dataframe tbody tr th {\n",
       "        vertical-align: top;\n",
       "    }\n",
       "\n",
       "    .dataframe thead th {\n",
       "        text-align: right;\n",
       "    }\n",
       "</style>\n",
       "<table border=\"1\" class=\"dataframe\">\n",
       "  <thead>\n",
       "    <tr style=\"text-align: right;\">\n",
       "      <th></th>\n",
       "      <th>Rating</th>\n",
       "    </tr>\n",
       "  </thead>\n",
       "  <tbody>\n",
       "    <tr>\n",
       "      <th>0</th>\n",
       "      <td>5.8</td>\n",
       "    </tr>\n",
       "    <tr>\n",
       "      <th>1</th>\n",
       "      <td>7.0</td>\n",
       "    </tr>\n",
       "    <tr>\n",
       "      <th>2</th>\n",
       "      <td>5.8</td>\n",
       "    </tr>\n",
       "    <tr>\n",
       "      <th>3</th>\n",
       "      <td>4.4</td>\n",
       "    </tr>\n",
       "    <tr>\n",
       "      <th>4</th>\n",
       "      <td>5.8</td>\n",
       "    </tr>\n",
       "    <tr>\n",
       "      <th>...</th>\n",
       "      <td>...</td>\n",
       "    </tr>\n",
       "    <tr>\n",
       "      <th>15504</th>\n",
       "      <td>4.6</td>\n",
       "    </tr>\n",
       "    <tr>\n",
       "      <th>15505</th>\n",
       "      <td>4.5</td>\n",
       "    </tr>\n",
       "    <tr>\n",
       "      <th>15506</th>\n",
       "      <td>5.8</td>\n",
       "    </tr>\n",
       "    <tr>\n",
       "      <th>15507</th>\n",
       "      <td>5.8</td>\n",
       "    </tr>\n",
       "    <tr>\n",
       "      <th>15508</th>\n",
       "      <td>6.2</td>\n",
       "    </tr>\n",
       "  </tbody>\n",
       "</table>\n",
       "<p>15503 rows × 1 columns</p>\n",
       "</div>"
      ],
      "text/plain": [
       "       Rating\n",
       "0         5.8\n",
       "1         7.0\n",
       "2         5.8\n",
       "3         4.4\n",
       "4         5.8\n",
       "...       ...\n",
       "15504     4.6\n",
       "15505     4.5\n",
       "15506     5.8\n",
       "15507     5.8\n",
       "15508     6.2\n",
       "\n",
       "[15503 rows x 1 columns]"
      ]
     },
     "execution_count": 42,
     "metadata": {},
     "output_type": "execute_result"
    }
   ],
   "source": [
    "Y"
   ]
  },
  {
   "cell_type": "code",
   "execution_count": 44,
   "id": "7bd393b2",
   "metadata": {},
   "outputs": [],
   "source": [
    "from sklearn.model_selection import train_test_split\n",
    "x_train,x_test,y_train,y_test=train_test_split(X,Y,test_size=0.2,random_state=21)"
   ]
  },
  {
   "cell_type": "code",
   "execution_count": 45,
   "id": "87fc338d",
   "metadata": {},
   "outputs": [
    {
     "data": {
      "text/html": [
       "<div>\n",
       "<style scoped>\n",
       "    .dataframe tbody tr th:only-of-type {\n",
       "        vertical-align: middle;\n",
       "    }\n",
       "\n",
       "    .dataframe tbody tr th {\n",
       "        vertical-align: top;\n",
       "    }\n",
       "\n",
       "    .dataframe thead th {\n",
       "        text-align: right;\n",
       "    }\n",
       "</style>\n",
       "<table border=\"1\" class=\"dataframe\">\n",
       "  <thead>\n",
       "    <tr style=\"text-align: right;\">\n",
       "      <th></th>\n",
       "      <th>Year</th>\n",
       "      <th>Genre encoded</th>\n",
       "      <th>Votes encoded</th>\n",
       "      <th>Director encoded</th>\n",
       "      <th>Actor 1 encoded</th>\n",
       "      <th>Actor 2 encoded</th>\n",
       "      <th>Actor 3 encoded</th>\n",
       "    </tr>\n",
       "  </thead>\n",
       "  <tbody>\n",
       "    <tr>\n",
       "      <th>4617</th>\n",
       "      <td>1989</td>\n",
       "      <td>5.6</td>\n",
       "      <td>5.8</td>\n",
       "      <td>5.9</td>\n",
       "      <td>6.1</td>\n",
       "      <td>5.5</td>\n",
       "      <td>6.0</td>\n",
       "    </tr>\n",
       "    <tr>\n",
       "      <th>8557</th>\n",
       "      <td>1965</td>\n",
       "      <td>5.5</td>\n",
       "      <td>6.3</td>\n",
       "      <td>6.2</td>\n",
       "      <td>6.3</td>\n",
       "      <td>6.5</td>\n",
       "      <td>6.4</td>\n",
       "    </tr>\n",
       "    <tr>\n",
       "      <th>13836</th>\n",
       "      <td>2008</td>\n",
       "      <td>6.5</td>\n",
       "      <td>5.7</td>\n",
       "      <td>6.9</td>\n",
       "      <td>6.9</td>\n",
       "      <td>6.9</td>\n",
       "      <td>6.2</td>\n",
       "    </tr>\n",
       "    <tr>\n",
       "      <th>11646</th>\n",
       "      <td>1995</td>\n",
       "      <td>5.6</td>\n",
       "      <td>5.4</td>\n",
       "      <td>6.0</td>\n",
       "      <td>6.6</td>\n",
       "      <td>5.7</td>\n",
       "      <td>6.3</td>\n",
       "    </tr>\n",
       "    <tr>\n",
       "      <th>2067</th>\n",
       "      <td>2019</td>\n",
       "      <td>5.8</td>\n",
       "      <td>5.8</td>\n",
       "      <td>5.8</td>\n",
       "      <td>6.1</td>\n",
       "      <td>5.8</td>\n",
       "      <td>5.8</td>\n",
       "    </tr>\n",
       "    <tr>\n",
       "      <th>...</th>\n",
       "      <td>...</td>\n",
       "      <td>...</td>\n",
       "      <td>...</td>\n",
       "      <td>...</td>\n",
       "      <td>...</td>\n",
       "      <td>...</td>\n",
       "      <td>...</td>\n",
       "    </tr>\n",
       "    <tr>\n",
       "      <th>48</th>\n",
       "      <td>2019</td>\n",
       "      <td>6.0</td>\n",
       "      <td>5.8</td>\n",
       "      <td>5.9</td>\n",
       "      <td>5.9</td>\n",
       "      <td>5.9</td>\n",
       "      <td>5.9</td>\n",
       "    </tr>\n",
       "    <tr>\n",
       "      <th>8967</th>\n",
       "      <td>2020</td>\n",
       "      <td>5.8</td>\n",
       "      <td>5.7</td>\n",
       "      <td>5.7</td>\n",
       "      <td>5.7</td>\n",
       "      <td>5.4</td>\n",
       "      <td>5.8</td>\n",
       "    </tr>\n",
       "    <tr>\n",
       "      <th>5947</th>\n",
       "      <td>1937</td>\n",
       "      <td>6.0</td>\n",
       "      <td>5.8</td>\n",
       "      <td>5.8</td>\n",
       "      <td>5.8</td>\n",
       "      <td>5.9</td>\n",
       "      <td>5.8</td>\n",
       "    </tr>\n",
       "    <tr>\n",
       "      <th>5330</th>\n",
       "      <td>1989</td>\n",
       "      <td>6.0</td>\n",
       "      <td>5.8</td>\n",
       "      <td>5.4</td>\n",
       "      <td>5.8</td>\n",
       "      <td>6.4</td>\n",
       "      <td>5.4</td>\n",
       "    </tr>\n",
       "    <tr>\n",
       "      <th>15311</th>\n",
       "      <td>2001</td>\n",
       "      <td>5.9</td>\n",
       "      <td>5.7</td>\n",
       "      <td>6.2</td>\n",
       "      <td>4.6</td>\n",
       "      <td>4.5</td>\n",
       "      <td>5.4</td>\n",
       "    </tr>\n",
       "  </tbody>\n",
       "</table>\n",
       "<p>12402 rows × 7 columns</p>\n",
       "</div>"
      ],
      "text/plain": [
       "       Year  Genre encoded  Votes encoded  Director encoded  Actor 1 encoded  \\\n",
       "4617   1989            5.6            5.8               5.9              6.1   \n",
       "8557   1965            5.5            6.3               6.2              6.3   \n",
       "13836  2008            6.5            5.7               6.9              6.9   \n",
       "11646  1995            5.6            5.4               6.0              6.6   \n",
       "2067   2019            5.8            5.8               5.8              6.1   \n",
       "...     ...            ...            ...               ...              ...   \n",
       "48     2019            6.0            5.8               5.9              5.9   \n",
       "8967   2020            5.8            5.7               5.7              5.7   \n",
       "5947   1937            6.0            5.8               5.8              5.8   \n",
       "5330   1989            6.0            5.8               5.4              5.8   \n",
       "15311  2001            5.9            5.7               6.2              4.6   \n",
       "\n",
       "       Actor 2 encoded  Actor 3 encoded  \n",
       "4617               5.5              6.0  \n",
       "8557               6.5              6.4  \n",
       "13836              6.9              6.2  \n",
       "11646              5.7              6.3  \n",
       "2067               5.8              5.8  \n",
       "...                ...              ...  \n",
       "48                 5.9              5.9  \n",
       "8967               5.4              5.8  \n",
       "5947               5.9              5.8  \n",
       "5330               6.4              5.4  \n",
       "15311              4.5              5.4  \n",
       "\n",
       "[12402 rows x 7 columns]"
      ]
     },
     "execution_count": 45,
     "metadata": {},
     "output_type": "execute_result"
    }
   ],
   "source": [
    "x_train"
   ]
  },
  {
   "cell_type": "code",
   "execution_count": 46,
   "id": "2e82a1b4",
   "metadata": {},
   "outputs": [],
   "source": [
    "from sklearn.ensemble import RandomForestRegressor\n",
    "from sklearn.model_selection import cross_val_score"
   ]
  },
  {
   "cell_type": "code",
   "execution_count": 50,
   "id": "cfe8c2e8",
   "metadata": {},
   "outputs": [
    {
     "name": "stderr",
     "output_type": "stream",
     "text": [
      "C:\\Users\\Jagrati Garg\\AppData\\Local\\Temp\\ipykernel_10336\\537488991.py:2: DataConversionWarning: A column-vector y was passed when a 1d array was expected. Please change the shape of y to (n_samples,), for example using ravel().\n",
      "  rfr.fit(x_train,y_train)\n",
      "C:\\Users\\Jagrati Garg\\anaconda3\\lib\\site-packages\\sklearn\\ensemble\\_forest.py:560: UserWarning: Some inputs do not have OOB scores. This probably means too few trees were used to compute any reliable OOB estimates.\n",
      "  warn(\n"
     ]
    },
    {
     "data": {
      "text/plain": [
       "RandomForestRegressor(n_estimators=10, oob_score=True, random_state=0)"
      ]
     },
     "execution_count": 50,
     "metadata": {},
     "output_type": "execute_result"
    }
   ],
   "source": [
    "rfr=RandomForestRegressor(n_estimators=10, random_state=0, oob_score=True)\n",
    "rfr.fit(x_train,y_train)"
   ]
  },
  {
   "cell_type": "code",
   "execution_count": 51,
   "id": "f5035d0b",
   "metadata": {},
   "outputs": [],
   "source": [
    "pred=rfr.predict(x_test)"
   ]
  },
  {
   "cell_type": "code",
   "execution_count": 52,
   "id": "53411cb1",
   "metadata": {},
   "outputs": [
    {
     "data": {
      "text/plain": [
       "array([5.8 , 7.96, 5.  , ..., 5.79, 5.5 , 5.75])"
      ]
     },
     "execution_count": 52,
     "metadata": {},
     "output_type": "execute_result"
    }
   ],
   "source": [
    "pred"
   ]
  },
  {
   "cell_type": "code",
   "execution_count": 53,
   "id": "b9aefae9",
   "metadata": {},
   "outputs": [],
   "source": [
    "from sklearn.metrics import mean_absolute_error,mean_squared_error,r2_score"
   ]
  },
  {
   "cell_type": "code",
   "execution_count": 54,
   "id": "93b4b787",
   "metadata": {},
   "outputs": [],
   "source": [
    "score=mean_absolute_error(y_test,pred)"
   ]
  },
  {
   "cell_type": "code",
   "execution_count": 55,
   "id": "b1dcea3d",
   "metadata": {},
   "outputs": [
    {
     "data": {
      "text/plain": [
       "0.24949394204634923"
      ]
     },
     "execution_count": 55,
     "metadata": {},
     "output_type": "execute_result"
    }
   ],
   "source": [
    "score"
   ]
  },
  {
   "cell_type": "code",
   "execution_count": 56,
   "id": "72f77106",
   "metadata": {},
   "outputs": [
    {
     "data": {
      "text/plain": [
       "0.7788561516397525"
      ]
     },
     "execution_count": 56,
     "metadata": {},
     "output_type": "execute_result"
    }
   ],
   "source": [
    "scores=r2_score(y_test,pred)\n",
    "scores"
   ]
  },
  {
   "cell_type": "code",
   "execution_count": 57,
   "id": "74693c15",
   "metadata": {},
   "outputs": [],
   "source": [
    "scored=mean_squared_error(y_test,pred)"
   ]
  },
  {
   "cell_type": "code",
   "execution_count": 58,
   "id": "a845ad0e",
   "metadata": {},
   "outputs": [
    {
     "data": {
      "text/plain": [
       "0.22654927386089335"
      ]
     },
     "execution_count": 58,
     "metadata": {},
     "output_type": "execute_result"
    }
   ],
   "source": [
    "scored"
   ]
  },
  {
   "cell_type": "code",
   "execution_count": null,
   "id": "d43025b1",
   "metadata": {},
   "outputs": [],
   "source": []
  },
  {
   "cell_type": "code",
   "execution_count": null,
   "id": "8e3523c4",
   "metadata": {},
   "outputs": [],
   "source": []
  }
 ],
 "metadata": {
  "kernelspec": {
   "display_name": "Python 3 (ipykernel)",
   "language": "python",
   "name": "python3"
  },
  "language_info": {
   "codemirror_mode": {
    "name": "ipython",
    "version": 3
   },
   "file_extension": ".py",
   "mimetype": "text/x-python",
   "name": "python",
   "nbconvert_exporter": "python",
   "pygments_lexer": "ipython3",
   "version": "3.9.13"
  }
 },
 "nbformat": 4,
 "nbformat_minor": 5
}
